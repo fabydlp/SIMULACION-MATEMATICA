{
 "cells": [
  {
   "cell_type": "markdown",
   "id": "9b3e5a87",
   "metadata": {},
   "source": [
    "# HOLA :)"
   ]
  },
  {
   "cell_type": "markdown",
   "id": "01c6bb18",
   "metadata": {},
   "source": [
    "## Me llamo *Fabiana*"
   ]
  },
  {
   "cell_type": "markdown",
   "id": "7f8b5f7f",
   "metadata": {},
   "source": [
    "### pero me puedes decir\n",
    "\n",
    "    -Fabi\n",
    "    -Fa\n",
    "    -Fabys \n",
    "**Y bueno ya de compas fabiruchis**\n",
    "\n",
    "Mis cosas favoritas son\n",
    "\n",
    "    1. Mangos\n",
    "    2. Playa\n",
    "    3. Lluvia\n",
    "    4. Galletas\n"
   ]
  },
  {
   "cell_type": "markdown",
   "id": "9dd1d5d7",
   "metadata": {},
   "source": [
    "Estudio **ingeniería financiera**, voy como en 3er o 4to semestre, soy de Durango y vivo con mi gato **POLO**"
   ]
  },
  {
   "cell_type": "markdown",
   "id": "02400528",
   "metadata": {},
   "source": [
    "$$ POLO = 2 AÑOS 8 MESES $$"
   ]
  },
  {
   "cell_type": "markdown",
   "id": "4470fe13",
   "metadata": {},
   "source": [
    "![POLOLO](https://cdn0.soyungato.com/es/razas/7/2/0/gato-americano_27_0_orig.jpg 'POLO')"
   ]
  },
  {
   "cell_type": "markdown",
   "id": "e0fff7b9",
   "metadata": {},
   "source": [
    "## Mi carrera"
   ]
  },
  {
   "cell_type": "markdown",
   "id": "19688a81",
   "metadata": {},
   "source": [
    "Me llama mucho la atención es como se relaciona con el derecho, así como la obligación"
   ]
  },
  {
   "cell_type": "markdown",
   "id": "fab02f01",
   "metadata": {},
   "source": [
    "Obligación\n",
    "\n",
    "La institución financiera pacta el interés, las garantías\n",
    "\n",
    "Certificado de deposito (lo que sea que hayas “empeñado”) afectado por bono de prenda (o sea esta ligado) para que una persona pueda sacar su bien se necesitan los dos titulos  \n",
    "\n",
    " el bono de prenda se inscriben los datos de la persona que esta recibiendo el crédito \n",
    "\n",
    "el tiempo depende de el contrato que se pacto, ademas se debe de vencer primero el bono antes del certificado de deposito"
   ]
  }
 ],
 "metadata": {
  "kernelspec": {
   "display_name": "Python 3 (ipykernel)",
   "language": "python",
   "name": "python3"
  },
  "language_info": {
   "codemirror_mode": {
    "name": "ipython",
    "version": 3
   },
   "file_extension": ".py",
   "mimetype": "text/x-python",
   "name": "python",
   "nbconvert_exporter": "python",
   "pygments_lexer": "ipython3",
   "version": "3.9.12"
  }
 },
 "nbformat": 4,
 "nbformat_minor": 5
}
