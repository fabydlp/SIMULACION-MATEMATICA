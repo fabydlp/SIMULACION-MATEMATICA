{
 "cells": [
  {
   "cell_type": "markdown",
   "metadata": {},
   "source": [
    "# Actividad - Ecuaciones diferenciales"
   ]
  },
  {
   "cell_type": "code",
   "execution_count": 1,
   "metadata": {},
   "outputs": [],
   "source": [
    "from scipy.integrate import solve_ivp\n",
    "import numpy as np\n",
    "import matplotlib.pyplot as plt\n",
    "%matplotlib inline"
   ]
  },
  {
   "cell_type": "markdown",
   "metadata": {},
   "source": [
    "1. Resolver numéricamente con `solve_ivp` la siguiente ecuación diferencial:\n",
    "$$\\frac{dx}{dt}=\\frac{x}{t+1}$$"
   ]
  },
  {
   "cell_type": "code",
   "execution_count": 2,
   "metadata": {},
   "outputs": [
    {
     "data": {
      "text/plain": [
       "  message: 'The solver successfully reached the end of the integration interval.'\n",
       "     nfev: 26\n",
       "     njev: 0\n",
       "      nlu: 0\n",
       "      sol: None\n",
       "   status: 0\n",
       "  success: True\n",
       "        t: array([  0.        ,   0.10001   ,   1.10010998,  11.10110978,\n",
       "       100.        ])\n",
       " t_events: None\n",
       "        y: array([[  2.        ,   2.20002   ,   4.20021996,  24.20221956,\n",
       "        202.        ]])\n",
       " y_events: None"
      ]
     },
     "execution_count": 2,
     "metadata": {},
     "output_type": "execute_result"
    }
   ],
   "source": [
    "def f (t,x):\n",
    "    return x/(t+1)\n",
    "\n",
    "t = np.linspace(0, 50, 500)\n",
    "\n",
    "tspan = [0,100]\n",
    "x0=np.array([2])\n",
    "x=solve_ivp(f,tspan,x0) \n",
    "x"
   ]
  },
  {
   "cell_type": "markdown",
   "metadata": {},
   "source": [
    "Grafique con condición inicial $x_0 = 2$"
   ]
  },
  {
   "cell_type": "code",
   "execution_count": 4,
   "metadata": {},
   "outputs": [
    {
     "data": {
      "text/plain": [
       "array([  0.        ,   0.10001   ,   1.10010998,  11.10110978,\n",
       "       100.        ])"
      ]
     },
     "execution_count": 4,
     "metadata": {},
     "output_type": "execute_result"
    }
   ],
   "source": [
    "x.t"
   ]
  },
  {
   "cell_type": "code",
   "execution_count": 7,
   "metadata": {},
   "outputs": [
    {
     "data": {
      "text/plain": [
       "array([  2.        ,   2.20002   ,   4.20021996,  24.20221956,\n",
       "       202.        ])"
      ]
     },
     "execution_count": 7,
     "metadata": {},
     "output_type": "execute_result"
    }
   ],
   "source": [
    "x.y[0, :] #(vector)"
   ]
  },
  {
   "cell_type": "code",
   "execution_count": 6,
   "metadata": {},
   "outputs": [
    {
     "name": "stderr",
     "output_type": "stream",
     "text": [
      "No artists with labels found to put in legend.  Note that artists whose label start with an underscore are ignored when legend() is called with no argument.\n"
     ]
    },
    {
     "data": {
      "image/png": "[encoded data removed]",
      "text/plain": [
       "<Figure size 432x288 with 1 Axes>"
      ]
     },
     "metadata": {
      "needs_background": "light"
     },
     "output_type": "display_data"
    }
   ],
   "source": [
    "plt.figure()\n",
    "plt.plot(x.t, x.y[0, :])\n",
    "plt.legend(loc=\"best\")\n",
    "plt.grid()"
   ]
  },
  {
   "cell_type": "markdown",
   "metadata": {},
   "source": [
    "2. Encuentre la solución numérica para un oscilador armónico simple:\n",
    "\n",
    "$$\n",
    "\\frac{d^2 x}{dt^2} +  \\omega_{0}^2 x = 0.\n",
    "$$\n",
    "Donde $x_0=0.5$, $\\dot{x}_0=0.1$ y $\\omega_0=3$."
   ]
  },
  {
   "cell_type": "markdown",
   "metadata": {},
   "source": []
  },
  {
   "cell_type": "markdown",
   "metadata": {},
   "source": []
  },
  {
   "cell_type": "markdown",
   "metadata": {},
   "source": []
  },
  {
   "cell_type": "markdown",
   "metadata": {},
   "source": [
    "2.1 Defina una función, cuyos argumentos de entrada sean:\n",
    "\n",
    "\n",
    "1. el tiempo $t$,\n",
    "2. el arreglo $[x,\\dot{x}]$.\n",
    "\n",
    "Y la salida:\n",
    "\n",
    "1. el arreglo $[\\dot{x},\\ddot{x}]$.\n",
    "\n",
    "  Considerando el argumento de la frecuencia natural $\\omega_0$ debe ser una variable global."
   ]
  },
  {
   "cell_type": "code",
   "execution_count": 15,
   "metadata": {},
   "outputs": [],
   "source": [
    "def dx(t, x):\n",
    "    return [x[1], -w0**2*x[0]]"
   ]
  },
  {
   "cell_type": "code",
   "execution_count": 16,
   "metadata": {},
   "outputs": [
    {
     "data": {
      "text/plain": [
       "  message: 'The solver successfully reached the end of the integration interval.'\n",
       "     nfev: 608\n",
       "     njev: 0\n",
       "      nlu: 0\n",
       "      sol: None\n",
       "   status: 0\n",
       "  success: True\n",
       "        t: array([ 0.        ,  0.03155236,  0.13155236,  0.23155236,  0.33155236,\n",
       "        0.43155236,  0.53155236,  0.63155236,  0.73155236,  0.83155236,\n",
       "        0.93155236,  1.03155236,  1.13155236,  1.23155236,  1.33155236,\n",
       "        1.43155236,  1.53155236,  1.63155236,  1.73155236,  1.83155236,\n",
       "        1.93155236,  2.03155236,  2.13155236,  2.23155236,  2.33155236,\n",
       "        2.43155236,  2.53155236,  2.63155236,  2.73155236,  2.83155236,\n",
       "        2.93155236,  3.03155236,  3.13155236,  3.23155236,  3.33155236,\n",
       "        3.43155236,  3.53155236,  3.63155236,  3.73155236,  3.83155236,\n",
       "        3.93155236,  4.03155236,  4.13155236,  4.23155236,  4.33155236,\n",
       "        4.43155236,  4.53155236,  4.63155236,  4.73155236,  4.83155236,\n",
       "        4.93155236,  5.03155236,  5.13155236,  5.23155236,  5.33155236,\n",
       "        5.43155236,  5.53155236,  5.63155236,  5.73155236,  5.83155236,\n",
       "        5.93155236,  6.03155236,  6.13155236,  6.23155236,  6.33155236,\n",
       "        6.43155236,  6.53155236,  6.63155236,  6.73155236,  6.83155236,\n",
       "        6.93155236,  7.03155236,  7.13155236,  7.23155236,  7.33155236,\n",
       "        7.43155236,  7.53155236,  7.63155236,  7.73155236,  7.83155236,\n",
       "        7.93155236,  8.03155236,  8.13155236,  8.23155236,  8.33155236,\n",
       "        8.43155236,  8.53155236,  8.63155236,  8.73155236,  8.83155236,\n",
       "        8.93155236,  9.03155236,  9.13155236,  9.23155236,  9.33155236,\n",
       "        9.43155236,  9.53155236,  9.63155236,  9.73155236,  9.83155236,\n",
       "        9.93155236, 10.        ])\n",
       " t_events: None\n",
       "        y: array([[ 0.5       ,  0.50091221,  0.47438052,  0.40547382,  0.30034736,\n",
       "         0.1683918 ,  0.02139433, -0.12751418, -0.26503216, -0.37887555,\n",
       "        -0.45887505, -0.49788457, -0.4924195 , -0.44296805, -0.35394758,\n",
       "        -0.23331004, -0.09183164,  0.05784975,  0.20236354,  0.32880074,\n",
       "         0.42586709,  0.48489194,  0.5006028 ,  0.47159627,  0.40046344,\n",
       "         0.29355842,  0.16043072,  0.01297226, -0.13564491, -0.27214527,\n",
       "        -0.38433564, -0.4621944 , -0.49876666, -0.49078554, -0.43896399,\n",
       "        -0.3479311 , -0.22581858, -0.08353439,  0.06621164,  0.21004311,\n",
       "         0.335112  ,  0.43024627,  0.48694787,  0.50015182,  0.46867868,\n",
       "         0.39533985,  0.28668651,  0.15242433,  0.00454659, -0.14373723,\n",
       "        -0.27918137, -0.38968701, -0.46538301, -0.49950769, -0.4890128 ,\n",
       "        -0.43483583, -0.34181628, -0.21826331, -0.07521357,  0.07455473,\n",
       "         0.21766322,  0.34132844,  0.43450374,  0.48886607,  0.49955941,\n",
       "         0.46562856,  0.3901045 ,  0.27973357,  0.14437491, -0.0038803 ,\n",
       "        -0.15178883, -0.28613846, -0.39492813, -0.46843999, -0.50010745,\n",
       "        -0.48710178, -0.43058473, -0.33560483, -0.21064638, -0.06687154,\n",
       "         0.08287668,  0.22522171,  0.3474483 ,  0.43863831,  0.49064601,\n",
       "         0.49882572,  0.46244679,  0.38475886,  0.27270158,  0.13628471,\n",
       "        -0.01230603, -0.15979745, -0.29301458, -0.40005753, -0.47136447,\n",
       "        -0.50056579, -0.48505302, -0.42621189, -0.32929853, -0.20296993,\n",
       "        -0.05851067,  0.04419557],\n",
       "       [ 0.1       , -0.04222134, -0.48442468, -0.88335562, -1.20337886,\n",
       "        -1.41590767, -1.50195753, -1.4538419 , -1.27585886, -0.98390715,\n",
       "        -0.60406601, -0.17026557,  0.27874404,  0.7028541 ,  1.06418011,\n",
       "         1.3304459 ,  1.47786677,  1.49327408,  1.37529159,  1.13445839,\n",
       "         0.79228743,  0.37934389, -0.06748518, -0.50828584, -0.90368265,\n",
       "        -1.21835599, -1.42419706, -1.50281871, -1.44719794, -1.26230325,\n",
       "        -0.96465078, -0.580829  , -0.1451236 ,  0.3035451 ,  0.72509884,\n",
       "         1.08188148,  1.34202269,  1.48228486,  1.49013882,  1.36488305,\n",
       "         1.11770632,  0.77068826,  0.35482701, -0.09272975, -0.53200307,\n",
       "        -0.92375396, -1.23298847, -1.43208363, -1.50325488, -1.44014477,\n",
       "        -1.24839077, -0.94512176, -0.5574279 , -0.11994079,  0.32826013,\n",
       "         0.74713836,  1.09927677,  1.35321988,  1.48628373,  1.48658218,\n",
       "         1.35408859,  1.1006383 ,  0.74887131,  0.33020997, -0.1179479 ,\n",
       "        -0.55556967, -0.94356388, -1.24727214, -1.43956514, -1.50326594,\n",
       "        -1.43268438, -1.23412535, -0.9253256 , -0.53386934, -0.09472425,\n",
       "         0.35288213,  0.76896642,  1.11636104,  1.36403428,  1.48986225,\n",
       "         1.48260516,  1.34291129,  1.08325915,  0.72684275,  0.30549974,\n",
       "        -0.1431325 , -0.57897898, -0.96310681, -1.26120299, -1.44663949,\n",
       "        -1.50285188, -1.42481889, -1.21951104, -0.90526792, -0.51015999,\n",
       "        -0.06948111,  0.37740415,  0.79057685,  1.13312948,  1.37446286,\n",
       "         1.49301942,  1.4974442 ]])\n",
       " y_events: None"
      ]
     },
     "execution_count": 16,
     "metadata": {},
     "output_type": "execute_result"
    }
   ],
   "source": [
    "w0 = 3\n",
    "xi = np.array([0.5,0.1])\n",
    "tspan = [0,10]\n",
    "\n",
    "x1 = solve_ivp(dx, tspan, xi, max_step=0.1)\n",
    "x1"
   ]
  },
  {
   "cell_type": "markdown",
   "metadata": {},
   "source": [
    "Grafique"
   ]
  },
  {
   "cell_type": "code",
   "execution_count": null,
   "metadata": {},
   "outputs": [],
   "source": [
    "plt.figure()\n",
    "plt.plot(x1.t, x1.y[0,:], 'c', label='Solución Numérica')\n",
    "plt.legend(loc='best')\n",
    "plt.grid()"
   ]
  },
  {
   "cell_type": "markdown",
   "metadata": {},
   "source": [
    "Asigne a los parámetros de la solución analítica $C_1=x_0$ y $C_2=\\frac{\\dot{x}_0}{\\omega_0}$."
   ]
  },
  {
   "cell_type": "code",
   "execution_count": 20,
   "metadata": {},
   "outputs": [],
   "source": [
    "def sa(t, w0, th0, v0):\n",
    "    return th0*np.cos(w0*t)+(v0/w0)*np.sin(w0*t)\n",
    "\n",
    "analitica = sa(x1.t, w0, 0.5, 0.1)"
   ]
  },
  {
   "cell_type": "code",
   "execution_count": null,
   "metadata": {},
   "outputs": [],
   "source": []
  },
  {
   "cell_type": "code",
   "execution_count": null,
   "metadata": {},
   "outputs": [],
   "source": []
  },
  {
   "cell_type": "markdown",
   "metadata": {},
   "source": [
    "Redefina la función para graficarla (con la palabra reservada ***def***) en un intervalo de tiempo de 0 a 10 segundos. Comparela en un mismo grafico con la solución numérica obtenida."
   ]
  },
  {
   "cell_type": "code",
   "execution_count": 22,
   "metadata": {},
   "outputs": [
    {
     "data": {
      "image/png": "[encoded data removed]",
      "text/plain": [
       "<Figure size 432x288 with 1 Axes>"
      ]
     },
     "metadata": {
      "needs_background": "light"
     },
     "output_type": "display_data"
    }
   ],
   "source": [
    "plt.figure()\n",
    "plt.plot(x1.t, analitica, lw = 5,label = 'Solución Analítica')\n",
    "plt.plot(x1.t, x1.y[0,:], 'c', label='Solución Numérica')\n",
    "plt.legend(loc='best')\n",
    "plt.grid()"
   ]
  },
  {
   "cell_type": "code",
   "execution_count": null,
   "metadata": {},
   "outputs": [],
   "source": []
  },
  {
   "cell_type": "code",
   "execution_count": null,
   "metadata": {},
   "outputs": [],
   "source": []
  }
 ],
 "metadata": {
  "kernelspec": {
   "display_name": "Python 3 (ipykernel)",
   "language": "python",
   "name": "python3"
  },
  "language_info": {
   "codemirror_mode": {
    "name": "ipython",
    "version": 3
   },
   "file_extension": ".py",
   "mimetype": "text/x-python",
   "name": "python",
   "nbconvert_exporter": "python",
   "pygments_lexer": "ipython3",
   "version": "3.9.12"
  }
 },
 "nbformat": 4,
 "nbformat_minor": 2
}
