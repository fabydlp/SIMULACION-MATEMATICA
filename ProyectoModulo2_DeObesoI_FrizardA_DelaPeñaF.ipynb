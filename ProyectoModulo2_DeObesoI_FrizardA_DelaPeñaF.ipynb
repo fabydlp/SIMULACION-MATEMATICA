{
 "cells": [
  {
   "cell_type": "markdown",
   "metadata": {},
   "source": [
    "<img style=\"float: right; margin: 0px 0px 15px 15px;\" src=\"https://www.avatrade.es/wp-content/themes/ava_trade/assets/images/inner-pages/seo/rsi-0.png\" width=\"300px\" height=\"100px\" />\n",
    "\n",
    "\n",
    "# Estrategia  de inversión RSI y simulación del adjusted close a un año "
   ]
  },
  {
   "cell_type": "markdown",
   "metadata": {},
   "source": [
    "### Objetivos.\n",
    "#### 1.1 Objetivo general.\n",
    ">  - Medir el impulso de los cambios en el precio de un activo para evaluar si el precio de dicho activo está sobrevendido o sobrecomprado.\n",
    ">  - Predecir el comportamiento de la estrategia el siguiente año, con valores previamente simulados.\n",
    "#### 1.2 Objetivos específicos\n",
    ">  - Plantear una estrategia de inversión exitosa, mediante automatizar la compra y venta de acciones tomando en cuenta el RSI, el tiempo que tenemos posesión de una acción y mediante solo comprar la acción de nuevo, hasta que hayamos vendido la primera.\n",
    ">  - Aplicar está estrategia a la simulación realizada en clase y verificar que está también presente rendimientos positivos.\n"
   ]
  },
  {
   "cell_type": "code",
   "execution_count": 161,
   "metadata": {},
   "outputs": [],
   "source": [
    "import numpy as np\n",
    "import pandas as pd\n",
    "import yfinance as yf\n",
    "import matplotlib.pyplot as plt\n",
    "import pandas_datareader.data as web\n",
    "%matplotlib inline\n",
    "pd.options.mode.chained_assignment = None"
   ]
  },
  {
   "cell_type": "markdown",
   "metadata": {},
   "source": [
    "**1. Implementar el capital, que es el monto con el que nos vamos a estar rodeando**"
   ]
  },
  {
   "cell_type": "code",
   "execution_count": 162,
   "metadata": {},
   "outputs": [],
   "source": [
    "Capital = 1000000"
   ]
  },
  {
   "cell_type": "markdown",
   "metadata": {},
   "source": [
    "**2. Generamos un DataFrame que contiene toda la información de la acción, donde calculamos un moving average que es el promedio de todos los cambios de las acciones de los últimos 200 días y con esto generamos:** \n",
    "- Price change\n",
    "- Upmove (cuanto cambia la acción y aplicar en valores que son mayores a cero)\n",
    "- Downmove (cuanto cambia la acción y aplicar en valores que son menores a cero)\n",
    "- Average Up\n",
    "- Average Down \n",
    "\n",
    "**Estos movimientos nos ayudaran a generar el RSI, procedemos a calcular el RS que es avr up/avr down (que es el cambio) y seguimos con RSI utilizando la formula: $$RSI = 100 – 100 / (1 + RS)$$ Finalmente agregamos nuestros parametros, (entre más bajo sea el RSI sobrevendida la acción --> más alto sobrecomprada) cuando el adj close es mayor al moving average y el RSI es menor a 30 en buy es si, de lo contrario buy es no.**"
   ]
  },
  {
   "cell_type": "code",
   "execution_count": 163,
   "metadata": {},
   "outputs": [],
   "source": [
    "def RSIcalc(activo): #names\n",
    "    df = yf.download(activo,start='2012-11-01')\n",
    "    df['MA200'] = df['Adj Close'].rolling(window=200).mean()\n",
    "    df['Price Change'] = df['Adj Close'].pct_change()\n",
    "    df['Upmove'] = df['Price Change'].apply(lambda x: x if x>0 else 0)\n",
    "    df['Downmove'] = df['Price Change'].apply(lambda x: abs(x) if x<0 else 0)\n",
    "    df['Avg Up'] = df[\"Upmove\"].ewm(span=19).mean()\n",
    "    df['Avg Down'] = df[\"Downmove\"].ewm(span=19).mean()\n",
    "    df = df.dropna()\n",
    "    df['RS'] = (df['Avg Up']/df['Avg Down'])\n",
    "    df['RSI']= df['RS'].apply(lambda x: 100-(100/(x+1)))\n",
    "    df.loc[(df['Adj Close'] > df['MA200']) & (df['RSI']<30), 'Buy'] = 'Yes'\n",
    "    df.loc[(df['Adj Close'] < df['MA200']) | (df['RSI']>30), 'Buy'] = 'No'\n",
    "    return df"
   ]
  },
  {
   "cell_type": "markdown",
   "metadata": {},
   "source": [
    "**3. Metemos nuestro activo de APPLE**"
   ]
  },
  {
   "cell_type": "code",
   "execution_count": 164,
   "metadata": {},
   "outputs": [
    {
     "name": "stdout",
     "output_type": "stream",
     "text": [
      "[*********************100%***********************]  1 of 1 completed\n"
     ]
    },
    {
     "data": {
      "text/html": [
       "<div>\n",
       "<style scoped>\n",
       "    .dataframe tbody tr th:only-of-type {\n",
       "        vertical-align: middle;\n",
       "    }\n",
       "\n",
       "    .dataframe tbody tr th {\n",
       "        vertical-align: top;\n",
       "    }\n",
       "\n",
       "    .dataframe thead th {\n",
       "        text-align: right;\n",
       "    }\n",
       "</style>\n",
       "<table border=\"1\" class=\"dataframe\">\n",
       "  <thead>\n",
       "    <tr style=\"text-align: right;\">\n",
       "      <th></th>\n",
       "      <th>Open</th>\n",
       "      <th>High</th>\n",
       "      <th>Low</th>\n",
       "      <th>Close</th>\n",
       "      <th>Adj Close</th>\n",
       "      <th>Volume</th>\n",
       "      <th>MA200</th>\n",
       "      <th>Price Change</th>\n",
       "      <th>Upmove</th>\n",
       "      <th>Downmove</th>\n",
       "      <th>Avg Up</th>\n",
       "      <th>Avg Down</th>\n",
       "      <th>RS</th>\n",
       "      <th>RSI</th>\n",
       "      <th>Buy</th>\n",
       "    </tr>\n",
       "    <tr>\n",
       "      <th>Date</th>\n",
       "      <th></th>\n",
       "      <th></th>\n",
       "      <th></th>\n",
       "      <th></th>\n",
       "      <th></th>\n",
       "      <th></th>\n",
       "      <th></th>\n",
       "      <th></th>\n",
       "      <th></th>\n",
       "      <th></th>\n",
       "      <th></th>\n",
       "      <th></th>\n",
       "      <th></th>\n",
       "      <th></th>\n",
       "      <th></th>\n",
       "    </tr>\n",
       "  </thead>\n",
       "  <tbody>\n",
       "    <tr>\n",
       "      <th>2013-08-19 00:00:00-04:00</th>\n",
       "      <td>18.012142</td>\n",
       "      <td>18.347857</td>\n",
       "      <td>18.000000</td>\n",
       "      <td>18.133572</td>\n",
       "      <td>15.919973</td>\n",
       "      <td>510518400</td>\n",
       "      <td>14.495806</td>\n",
       "      <td>0.010770</td>\n",
       "      <td>0.010770</td>\n",
       "      <td>0.000000</td>\n",
       "      <td>0.011206</td>\n",
       "      <td>0.002129</td>\n",
       "      <td>5.263886</td>\n",
       "      <td>84.035469</td>\n",
       "      <td>No</td>\n",
       "    </tr>\n",
       "    <tr>\n",
       "      <th>2013-08-20 00:00:00-04:00</th>\n",
       "      <td>18.203930</td>\n",
       "      <td>18.234644</td>\n",
       "      <td>17.886429</td>\n",
       "      <td>17.895357</td>\n",
       "      <td>15.710841</td>\n",
       "      <td>358688400</td>\n",
       "      <td>14.483015</td>\n",
       "      <td>-0.013136</td>\n",
       "      <td>0.000000</td>\n",
       "      <td>0.013136</td>\n",
       "      <td>0.010085</td>\n",
       "      <td>0.003230</td>\n",
       "      <td>3.122772</td>\n",
       "      <td>75.744476</td>\n",
       "      <td>No</td>\n",
       "    </tr>\n",
       "    <tr>\n",
       "      <th>2013-08-21 00:00:00-04:00</th>\n",
       "      <td>17.985357</td>\n",
       "      <td>18.112499</td>\n",
       "      <td>17.900000</td>\n",
       "      <td>17.941429</td>\n",
       "      <td>15.751295</td>\n",
       "      <td>335879600</td>\n",
       "      <td>14.473449</td>\n",
       "      <td>0.002575</td>\n",
       "      <td>0.002575</td>\n",
       "      <td>0.000000</td>\n",
       "      <td>0.009334</td>\n",
       "      <td>0.002907</td>\n",
       "      <td>3.211360</td>\n",
       "      <td>76.254701</td>\n",
       "      <td>No</td>\n",
       "    </tr>\n",
       "    <tr>\n",
       "      <th>2013-08-22 00:00:00-04:00</th>\n",
       "      <td>18.035000</td>\n",
       "      <td>18.056786</td>\n",
       "      <td>17.792856</td>\n",
       "      <td>17.962856</td>\n",
       "      <td>15.770106</td>\n",
       "      <td>244207600</td>\n",
       "      <td>14.462780</td>\n",
       "      <td>0.001194</td>\n",
       "      <td>0.001194</td>\n",
       "      <td>0.000000</td>\n",
       "      <td>0.008520</td>\n",
       "      <td>0.002616</td>\n",
       "      <td>3.257013</td>\n",
       "      <td>76.509351</td>\n",
       "      <td>No</td>\n",
       "    </tr>\n",
       "    <tr>\n",
       "      <th>2013-08-23 00:00:00-04:00</th>\n",
       "      <td>17.973928</td>\n",
       "      <td>17.976786</td>\n",
       "      <td>17.833929</td>\n",
       "      <td>17.893572</td>\n",
       "      <td>15.709272</td>\n",
       "      <td>222731600</td>\n",
       "      <td>14.452078</td>\n",
       "      <td>-0.003858</td>\n",
       "      <td>0.000000</td>\n",
       "      <td>0.003858</td>\n",
       "      <td>0.007668</td>\n",
       "      <td>0.002740</td>\n",
       "      <td>2.798489</td>\n",
       "      <td>73.673743</td>\n",
       "      <td>No</td>\n",
       "    </tr>\n",
       "    <tr>\n",
       "      <th>...</th>\n",
       "      <td>...</td>\n",
       "      <td>...</td>\n",
       "      <td>...</td>\n",
       "      <td>...</td>\n",
       "      <td>...</td>\n",
       "      <td>...</td>\n",
       "      <td>...</td>\n",
       "      <td>...</td>\n",
       "      <td>...</td>\n",
       "      <td>...</td>\n",
       "      <td>...</td>\n",
       "      <td>...</td>\n",
       "      <td>...</td>\n",
       "      <td>...</td>\n",
       "      <td>...</td>\n",
       "    </tr>\n",
       "    <tr>\n",
       "      <th>2022-10-26 00:00:00-04:00</th>\n",
       "      <td>150.960007</td>\n",
       "      <td>151.990005</td>\n",
       "      <td>148.039993</td>\n",
       "      <td>149.350006</td>\n",
       "      <td>149.350006</td>\n",
       "      <td>88194300</td>\n",
       "      <td>156.721644</td>\n",
       "      <td>-0.019627</td>\n",
       "      <td>0.000000</td>\n",
       "      <td>0.019627</td>\n",
       "      <td>0.009922</td>\n",
       "      <td>0.007322</td>\n",
       "      <td>1.355160</td>\n",
       "      <td>57.540039</td>\n",
       "      <td>No</td>\n",
       "    </tr>\n",
       "    <tr>\n",
       "      <th>2022-10-27 00:00:00-04:00</th>\n",
       "      <td>148.070007</td>\n",
       "      <td>149.050003</td>\n",
       "      <td>144.130005</td>\n",
       "      <td>144.800003</td>\n",
       "      <td>144.800003</td>\n",
       "      <td>109180200</td>\n",
       "      <td>156.573852</td>\n",
       "      <td>-0.030465</td>\n",
       "      <td>0.000000</td>\n",
       "      <td>0.030465</td>\n",
       "      <td>0.008930</td>\n",
       "      <td>0.009636</td>\n",
       "      <td>0.926718</td>\n",
       "      <td>48.098277</td>\n",
       "      <td>No</td>\n",
       "    </tr>\n",
       "    <tr>\n",
       "      <th>2022-10-28 00:00:00-04:00</th>\n",
       "      <td>148.199997</td>\n",
       "      <td>157.500000</td>\n",
       "      <td>147.820007</td>\n",
       "      <td>155.740005</td>\n",
       "      <td>155.740005</td>\n",
       "      <td>164762400</td>\n",
       "      <td>156.478519</td>\n",
       "      <td>0.075553</td>\n",
       "      <td>0.075553</td>\n",
       "      <td>0.000000</td>\n",
       "      <td>0.015592</td>\n",
       "      <td>0.008673</td>\n",
       "      <td>1.797885</td>\n",
       "      <td>64.258711</td>\n",
       "      <td>No</td>\n",
       "    </tr>\n",
       "    <tr>\n",
       "      <th>2022-10-31 00:00:00-04:00</th>\n",
       "      <td>153.160004</td>\n",
       "      <td>154.240005</td>\n",
       "      <td>151.919998</td>\n",
       "      <td>153.339996</td>\n",
       "      <td>153.339996</td>\n",
       "      <td>97943200</td>\n",
       "      <td>156.387817</td>\n",
       "      <td>-0.015410</td>\n",
       "      <td>0.000000</td>\n",
       "      <td>0.015410</td>\n",
       "      <td>0.014033</td>\n",
       "      <td>0.009346</td>\n",
       "      <td>1.501447</td>\n",
       "      <td>60.023146</td>\n",
       "      <td>No</td>\n",
       "    </tr>\n",
       "    <tr>\n",
       "      <th>2022-11-01 00:00:00-04:00</th>\n",
       "      <td>155.080002</td>\n",
       "      <td>155.449997</td>\n",
       "      <td>149.130005</td>\n",
       "      <td>150.649994</td>\n",
       "      <td>150.649994</td>\n",
       "      <td>80321400</td>\n",
       "      <td>156.279283</td>\n",
       "      <td>-0.017543</td>\n",
       "      <td>0.000000</td>\n",
       "      <td>0.017543</td>\n",
       "      <td>0.012630</td>\n",
       "      <td>0.010166</td>\n",
       "      <td>1.242353</td>\n",
       "      <td>55.403992</td>\n",
       "      <td>No</td>\n",
       "    </tr>\n",
       "  </tbody>\n",
       "</table>\n",
       "<p>2319 rows × 15 columns</p>\n",
       "</div>"
      ],
      "text/plain": [
       "                                 Open        High         Low       Close  \\\n",
       "Date                                                                        \n",
       "2013-08-19 00:00:00-04:00   18.012142   18.347857   18.000000   18.133572   \n",
       "2013-08-20 00:00:00-04:00   18.203930   18.234644   17.886429   17.895357   \n",
       "2013-08-21 00:00:00-04:00   17.985357   18.112499   17.900000   17.941429   \n",
       "2013-08-22 00:00:00-04:00   18.035000   18.056786   17.792856   17.962856   \n",
       "2013-08-23 00:00:00-04:00   17.973928   17.976786   17.833929   17.893572   \n",
       "...                               ...         ...         ...         ...   \n",
       "2022-10-26 00:00:00-04:00  150.960007  151.990005  148.039993  149.350006   \n",
       "2022-10-27 00:00:00-04:00  148.070007  149.050003  144.130005  144.800003   \n",
       "2022-10-28 00:00:00-04:00  148.199997  157.500000  147.820007  155.740005   \n",
       "2022-10-31 00:00:00-04:00  153.160004  154.240005  151.919998  153.339996   \n",
       "2022-11-01 00:00:00-04:00  155.080002  155.449997  149.130005  150.649994   \n",
       "\n",
       "                            Adj Close     Volume       MA200  Price Change  \\\n",
       "Date                                                                         \n",
       "2013-08-19 00:00:00-04:00   15.919973  510518400   14.495806      0.010770   \n",
       "2013-08-20 00:00:00-04:00   15.710841  358688400   14.483015     -0.013136   \n",
       "2013-08-21 00:00:00-04:00   15.751295  335879600   14.473449      0.002575   \n",
       "2013-08-22 00:00:00-04:00   15.770106  244207600   14.462780      0.001194   \n",
       "2013-08-23 00:00:00-04:00   15.709272  222731600   14.452078     -0.003858   \n",
       "...                               ...        ...         ...           ...   \n",
       "2022-10-26 00:00:00-04:00  149.350006   88194300  156.721644     -0.019627   \n",
       "2022-10-27 00:00:00-04:00  144.800003  109180200  156.573852     -0.030465   \n",
       "2022-10-28 00:00:00-04:00  155.740005  164762400  156.478519      0.075553   \n",
       "2022-10-31 00:00:00-04:00  153.339996   97943200  156.387817     -0.015410   \n",
       "2022-11-01 00:00:00-04:00  150.649994   80321400  156.279283     -0.017543   \n",
       "\n",
       "                             Upmove  Downmove    Avg Up  Avg Down        RS  \\\n",
       "Date                                                                          \n",
       "2013-08-19 00:00:00-04:00  0.010770  0.000000  0.011206  0.002129  5.263886   \n",
       "2013-08-20 00:00:00-04:00  0.000000  0.013136  0.010085  0.003230  3.122772   \n",
       "2013-08-21 00:00:00-04:00  0.002575  0.000000  0.009334  0.002907  3.211360   \n",
       "2013-08-22 00:00:00-04:00  0.001194  0.000000  0.008520  0.002616  3.257013   \n",
       "2013-08-23 00:00:00-04:00  0.000000  0.003858  0.007668  0.002740  2.798489   \n",
       "...                             ...       ...       ...       ...       ...   \n",
       "2022-10-26 00:00:00-04:00  0.000000  0.019627  0.009922  0.007322  1.355160   \n",
       "2022-10-27 00:00:00-04:00  0.000000  0.030465  0.008930  0.009636  0.926718   \n",
       "2022-10-28 00:00:00-04:00  0.075553  0.000000  0.015592  0.008673  1.797885   \n",
       "2022-10-31 00:00:00-04:00  0.000000  0.015410  0.014033  0.009346  1.501447   \n",
       "2022-11-01 00:00:00-04:00  0.000000  0.017543  0.012630  0.010166  1.242353   \n",
       "\n",
       "                                 RSI Buy  \n",
       "Date                                      \n",
       "2013-08-19 00:00:00-04:00  84.035469  No  \n",
       "2013-08-20 00:00:00-04:00  75.744476  No  \n",
       "2013-08-21 00:00:00-04:00  76.254701  No  \n",
       "2013-08-22 00:00:00-04:00  76.509351  No  \n",
       "2013-08-23 00:00:00-04:00  73.673743  No  \n",
       "...                              ...  ..  \n",
       "2022-10-26 00:00:00-04:00  57.540039  No  \n",
       "2022-10-27 00:00:00-04:00  48.098277  No  \n",
       "2022-10-28 00:00:00-04:00  64.258711  No  \n",
       "2022-10-31 00:00:00-04:00  60.023146  No  \n",
       "2022-11-01 00:00:00-04:00  55.403992  No  \n",
       "\n",
       "[2319 rows x 15 columns]"
      ]
     },
     "execution_count": 164,
     "metadata": {},
     "output_type": "execute_result"
    }
   ],
   "source": [
    "RSIcalc('AAPL')"
   ]
  },
  {
   "cell_type": "markdown",
   "metadata": {},
   "source": [
    "**4. Creamos una función que contiene dos listas vacias que es en donde guardaremos las fechas en las que compramos y las que vendemos.**\n",
    "- **Utilizamos un ciclo for que utilizara el rango dentro de la longitud del DataFrame, si en la columna de buy aparece yes, esa fecha se agregara a la lista de buying dates.** \n",
    "- **Como es lista dentro de lista la \"i\" cambia a \"j\", si el rango es de 1-30 dias se corre la función**\n",
    "\n",
    "> - **Si el RSI es mayor a 60 VENDELO y luego se toma esa fecha y se agrega a selling dates**\n",
    "\n",
    "- Se rompe el ciclo\n",
    "\n",
    "> - **O si la fecha es a 30 agrega la fecha a selling dates y VENDELO**"
   ]
  },
  {
   "cell_type": "code",
   "execution_count": 165,
   "metadata": {},
   "outputs": [],
   "source": [
    "def indicadores(df):\n",
    "    Buying_dates = []\n",
    "    Selling_dates =[]\n",
    "    \n",
    "    for i in range(len(df)):\n",
    "        if \"Yes\" in df['Buy'].iloc[i]:\n",
    "            Buying_dates.append(df.iloc[i+1].name)\n",
    "            for j in range(1,31):\n",
    "                if df['RSI'].iloc[i + j] > 60:\n",
    "                    Selling_dates.append(df.iloc[i+j+1].name)\n",
    "                    break\n",
    "                elif j==30:\n",
    "                    Selling_dates.append(df.iloc[i+j+1].name)\n",
    "                    \n",
    "    return Buying_dates, Selling_dates"
   ]
  },
  {
   "cell_type": "markdown",
   "metadata": {},
   "source": [
    "**5. Se toma el calculo de RSI (DataFrame) y se guarda como la variable AAPL, esto te regresa las fechas en las que compraste y en las que vendiste**"
   ]
  },
  {
   "cell_type": "code",
   "execution_count": 166,
   "metadata": {},
   "outputs": [
    {
     "name": "stdout",
     "output_type": "stream",
     "text": [
      "[*********************100%***********************]  1 of 1 completed\n"
     ]
    }
   ],
   "source": [
    "AAPL = RSIcalc(\"AAPL\")\n",
    "Buy, Sell = indicadores(AAPL)"
   ]
  },
  {
   "cell_type": "markdown",
   "metadata": {},
   "source": [
    "**6. Graficamos los adjusted close de la acción, así mismo en verde se puede observar como esta graficando el RSI**"
   ]
  },
  {
   "cell_type": "code",
   "execution_count": 167,
   "metadata": {},
   "outputs": [
    {
     "data": {
      "text/plain": [
       "[<matplotlib.lines.Line2D at 0x19c55b87670>]"
      ]
     },
     "execution_count": 167,
     "metadata": {},
     "output_type": "execute_result"
    },
    {
     "data": {
      "image/png": "[encoded data removed]",
      "text/plain": [
       "<Figure size 864x360 with 1 Axes>"
      ]
     },
     "metadata": {
      "needs_background": "light"
     },
     "output_type": "display_data"
    }
   ],
   "source": [
    "plt.figure(figsize=(12,5))\n",
    "plt.scatter(AAPL.loc[Buy].index , AAPL.loc[Buy]['Adj Close'], marker='^',c='g')\n",
    "plt.plot(AAPL['Adj Close'])"
   ]
  },
  {
   "cell_type": "markdown",
   "metadata": {},
   "source": [
    "**6. Sacamos rendimiento, lo adjuntamos a una lista y graficamos**"
   ]
  },
  {
   "cell_type": "code",
   "execution_count": 168,
   "metadata": {},
   "outputs": [
    {
     "data": {
      "text/plain": [
       "array([ 0.0654827 ,  0.06847222,  0.08435324,  0.06832337,  0.06148077,\n",
       "        0.0617998 ,  0.04222853,  0.05855338,  0.01696588,  0.02081454,\n",
       "        0.04385886,  0.0291606 ,  0.05759894,  0.06305716,  0.01128026,\n",
       "        0.03505361,  0.03591816,  0.05437512,  0.06527097,  0.05270787,\n",
       "        0.04126141,  0.0328999 ,  0.03104626,  0.08334377,  0.05009816,\n",
       "        0.0421881 , -0.08302799,  0.04295261, -0.00807708,  0.02213961,\n",
       "        0.01248597,  0.01459737,  0.03189497,  0.02222222,  0.0627573 ,\n",
       "        0.04302457,  0.02139931,  0.08742651,  0.09454019,  0.06428131,\n",
       "        0.07116034,  0.05008743])"
      ]
     },
     "execution_count": 168,
     "metadata": {},
     "output_type": "execute_result"
    }
   ],
   "source": [
    "rendimiento = (AAPL.loc[Sell].Open.values - AAPL.loc[Buy].Open.values)/(AAPL.loc[Buy].Open.values)\n",
    "rendimiento"
   ]
  },
  {
   "cell_type": "code",
   "execution_count": 169,
   "metadata": {},
   "outputs": [
    {
     "data": {
      "text/plain": [
       "[<matplotlib.lines.Line2D at 0x19c55bd3250>]"
      ]
     },
     "execution_count": 169,
     "metadata": {},
     "output_type": "execute_result"
    },
    {
     "data": {
      "image/png": "[encoded data removed]",
      "text/plain": [
       "<Figure size 432x288 with 1 Axes>"
      ]
     },
     "metadata": {
      "needs_background": "light"
     },
     "output_type": "display_data"
    }
   ],
   "source": [
    "plt.plot(rendimiento)"
   ]
  },
  {
   "cell_type": "markdown",
   "metadata": {},
   "source": [
    "**7. Queremos observar de todos los datos que tenemos a cuales les ganamos, entonces las ganancias seran igual a los datos en la lista de rendimiento que sean mayores a cero, para sacar la probabilidad de ganancias se utiliza la formula:** $$(Ganancias)/(ListaDeRendimientos)*100)$$\n",
    "**Ya con esto se compactan todos los rendimientos y se mete a un DataFrame, donde te da sus características estadísticas.**"
   ]
  },
  {
   "cell_type": "code",
   "execution_count": 170,
   "metadata": {},
   "outputs": [],
   "source": [
    "ganancias = [i for i in rendimiento if i > 0]"
   ]
  },
  {
   "cell_type": "code",
   "execution_count": 171,
   "metadata": {},
   "outputs": [
    {
     "name": "stdout",
     "output_type": "stream",
     "text": [
      "La probabilidad para ganar es del: 95.23809523809523 %\n"
     ]
    }
   ],
   "source": [
    "print(\"La probabilidad para ganar es del:\", (len(ganancias)/len(rendimiento)*100),\"%\")"
   ]
  },
  {
   "cell_type": "code",
   "execution_count": 172,
   "metadata": {},
   "outputs": [
    {
     "data": {
      "text/html": [
       "<div>\n",
       "<style scoped>\n",
       "    .dataframe tbody tr th:only-of-type {\n",
       "        vertical-align: middle;\n",
       "    }\n",
       "\n",
       "    .dataframe tbody tr th {\n",
       "        vertical-align: top;\n",
       "    }\n",
       "\n",
       "    .dataframe thead th {\n",
       "        text-align: right;\n",
       "    }\n",
       "</style>\n",
       "<table border=\"1\" class=\"dataframe\">\n",
       "  <thead>\n",
       "    <tr style=\"text-align: right;\">\n",
       "      <th></th>\n",
       "      <th>Rendimientos</th>\n",
       "    </tr>\n",
       "  </thead>\n",
       "  <tbody>\n",
       "    <tr>\n",
       "      <th>count</th>\n",
       "      <td>42.000000</td>\n",
       "    </tr>\n",
       "    <tr>\n",
       "      <th>mean</th>\n",
       "      <td>0.043511</td>\n",
       "    </tr>\n",
       "    <tr>\n",
       "      <th>std</th>\n",
       "      <td>0.030515</td>\n",
       "    </tr>\n",
       "    <tr>\n",
       "      <th>min</th>\n",
       "      <td>-0.083028</td>\n",
       "    </tr>\n",
       "    <tr>\n",
       "      <th>25%</th>\n",
       "      <td>0.029632</td>\n",
       "    </tr>\n",
       "    <tr>\n",
       "      <th>50%</th>\n",
       "      <td>0.043442</td>\n",
       "    </tr>\n",
       "    <tr>\n",
       "      <th>75%</th>\n",
       "      <td>0.062982</td>\n",
       "    </tr>\n",
       "    <tr>\n",
       "      <th>max</th>\n",
       "      <td>0.094540</td>\n",
       "    </tr>\n",
       "  </tbody>\n",
       "</table>\n",
       "</div>"
      ],
      "text/plain": [
       "       Rendimientos\n",
       "count     42.000000\n",
       "mean       0.043511\n",
       "std        0.030515\n",
       "min       -0.083028\n",
       "25%        0.029632\n",
       "50%        0.043442\n",
       "75%        0.062982\n",
       "max        0.094540"
      ]
     },
     "execution_count": 172,
     "metadata": {},
     "output_type": "execute_result"
    }
   ],
   "source": [
    "tablar  = pd.DataFrame(columns=[\"Rendimientos\"], data=rendimiento)\n",
    "tablar.index.name = \"Movimientos\"\n",
    "tablar.describe()"
   ]
  },
  {
   "cell_type": "markdown",
   "metadata": {},
   "source": [
    "**8. Con el promedio de todos los rendimientos lo guardo en la variable Tasar, en la cual le indicamos que ese 4.35% lo multiplique por el capital para que de la utilidad**"
   ]
  },
  {
   "cell_type": "code",
   "execution_count": 286,
   "metadata": {},
   "outputs": [
    {
     "name": "stdout",
     "output_type": "stream",
     "text": [
      "La utilidad de la inversión fue de: 43510 dólares americanos.\n"
     ]
    }
   ],
   "source": [
    "Tasar = tablar.mean()\n",
    "Utilidad = Tasar*Capital\n",
    "print(\"La utilidad de la inversión fue de:\",int(Utilidad),\"dólares americanos.\")\n"
   ]
  },
  {
   "cell_type": "markdown",
   "metadata": {},
   "source": [
    "Por el momento la tasa de rendimiento de la tesorería de Estados Unidos está en 2.8%, vea aqui: https://www.bing.com/search?q=TIR+10+años+bonos+EUA&qs=n&form=QBRE&msbsrank=7_7__0&sp=-1&pq=tir+10+años+bonos+eua&sc=7-21&sk=&cvid=25776AB26F074BD3AA54F42492912311&ghsh=0&ghacc=0&ghpl="
   ]
  },
  {
   "cell_type": "markdown",
   "metadata": {},
   "source": [
    "Ahora la simulación: se necesitar un data frame con valores simulados para predecir el comportamiento de la estrategia el siguiente año."
   ]
  },
  {
   "cell_type": "markdown",
   "metadata": {},
   "source": [
    "Simular los datos deL activo para el siguiente año y ver la utilidad / rendimiento\n"
   ]
  },
  {
   "cell_type": "markdown",
   "metadata": {},
   "source": [
    "**9. Descargamos los datos para apple del 2012 a 2022**"
   ]
  },
  {
   "cell_type": "code",
   "execution_count": 174,
   "metadata": {},
   "outputs": [
    {
     "data": {
      "text/html": [
       "<div>\n",
       "<style scoped>\n",
       "    .dataframe tbody tr th:only-of-type {\n",
       "        vertical-align: middle;\n",
       "    }\n",
       "\n",
       "    .dataframe tbody tr th {\n",
       "        vertical-align: top;\n",
       "    }\n",
       "\n",
       "    .dataframe thead th {\n",
       "        text-align: right;\n",
       "    }\n",
       "</style>\n",
       "<table border=\"1\" class=\"dataframe\">\n",
       "  <thead>\n",
       "    <tr style=\"text-align: right;\">\n",
       "      <th>Symbols</th>\n",
       "      <th>AAPL</th>\n",
       "    </tr>\n",
       "    <tr>\n",
       "      <th>Date</th>\n",
       "      <th></th>\n",
       "    </tr>\n",
       "  </thead>\n",
       "  <tbody>\n",
       "    <tr>\n",
       "      <th>2012-11-01</th>\n",
       "      <td>18.268991</td>\n",
       "    </tr>\n",
       "    <tr>\n",
       "      <th>2012-11-02</th>\n",
       "      <td>17.664459</td>\n",
       "    </tr>\n",
       "    <tr>\n",
       "      <th>2012-11-05</th>\n",
       "      <td>17.903944</td>\n",
       "    </tr>\n",
       "    <tr>\n",
       "      <th>2012-11-06</th>\n",
       "      <td>17.849733</td>\n",
       "    </tr>\n",
       "    <tr>\n",
       "      <th>2012-11-07</th>\n",
       "      <td>17.166759</td>\n",
       "    </tr>\n",
       "    <tr>\n",
       "      <th>...</th>\n",
       "      <td>...</td>\n",
       "    </tr>\n",
       "    <tr>\n",
       "      <th>2022-10-26</th>\n",
       "      <td>149.350006</td>\n",
       "    </tr>\n",
       "    <tr>\n",
       "      <th>2022-10-27</th>\n",
       "      <td>144.800003</td>\n",
       "    </tr>\n",
       "    <tr>\n",
       "      <th>2022-10-28</th>\n",
       "      <td>155.740005</td>\n",
       "    </tr>\n",
       "    <tr>\n",
       "      <th>2022-10-31</th>\n",
       "      <td>153.339996</td>\n",
       "    </tr>\n",
       "    <tr>\n",
       "      <th>2022-11-01</th>\n",
       "      <td>150.649994</td>\n",
       "    </tr>\n",
       "  </tbody>\n",
       "</table>\n",
       "<p>2518 rows × 1 columns</p>\n",
       "</div>"
      ],
      "text/plain": [
       "Symbols           AAPL\n",
       "Date                  \n",
       "2012-11-01   18.268991\n",
       "2012-11-02   17.664459\n",
       "2012-11-05   17.903944\n",
       "2012-11-06   17.849733\n",
       "2012-11-07   17.166759\n",
       "...                ...\n",
       "2022-10-26  149.350006\n",
       "2022-10-27  144.800003\n",
       "2022-10-28  155.740005\n",
       "2022-10-31  153.339996\n",
       "2022-11-01  150.649994\n",
       "\n",
       "[2518 rows x 1 columns]"
      ]
     },
     "execution_count": 174,
     "metadata": {},
     "output_type": "execute_result"
    }
   ],
   "source": [
    "names = [\"AAPL\"]\n",
    "def getClose(name, start, end):\n",
    "    return web.DataReader(name, \"yahoo\", start, end)[\"Adj Close\"]\n",
    "df2 = getClose(names, '2012-11-01', \"2022-11-01\")\n",
    "df2"
   ]
  },
  {
   "cell_type": "markdown",
   "metadata": {},
   "source": [
    "**10. Rendimiento**"
   ]
  },
  {
   "cell_type": "code",
   "execution_count": 175,
   "metadata": {},
   "outputs": [
    {
     "data": {
      "text/plain": [
       "<AxesSubplot:xlabel='Date'>"
      ]
     },
     "execution_count": 175,
     "metadata": {},
     "output_type": "execute_result"
    },
    {
     "data": {
      "image/png": "[encoded data removed]",
      "text/plain": [
       "<Figure size 432x288 with 1 Axes>"
      ]
     },
     "metadata": {
      "needs_background": "light"
     },
     "output_type": "display_data"
    }
   ],
   "source": [
    "r = np.log(df2/df2.shift(1))\n",
    "r.plot()"
   ]
  },
  {
   "cell_type": "markdown",
   "metadata": {},
   "source": [
    "**11. Simulo estos rendimientos 1000 veces**"
   ]
  },
  {
   "cell_type": "code",
   "execution_count": 178,
   "metadata": {},
   "outputs": [
    {
     "data": {
      "text/html": [
       "<div>\n",
       "<style scoped>\n",
       "    .dataframe tbody tr th:only-of-type {\n",
       "        vertical-align: middle;\n",
       "    }\n",
       "\n",
       "    .dataframe tbody tr th {\n",
       "        vertical-align: top;\n",
       "    }\n",
       "\n",
       "    .dataframe thead th {\n",
       "        text-align: right;\n",
       "    }\n",
       "</style>\n",
       "<table border=\"1\" class=\"dataframe\">\n",
       "  <thead>\n",
       "    <tr style=\"text-align: right;\">\n",
       "      <th></th>\n",
       "      <th>0</th>\n",
       "      <th>1</th>\n",
       "      <th>2</th>\n",
       "      <th>3</th>\n",
       "      <th>4</th>\n",
       "      <th>5</th>\n",
       "      <th>6</th>\n",
       "      <th>7</th>\n",
       "      <th>8</th>\n",
       "      <th>9</th>\n",
       "      <th>...</th>\n",
       "      <th>990</th>\n",
       "      <th>991</th>\n",
       "      <th>992</th>\n",
       "      <th>993</th>\n",
       "      <th>994</th>\n",
       "      <th>995</th>\n",
       "      <th>996</th>\n",
       "      <th>997</th>\n",
       "      <th>998</th>\n",
       "      <th>999</th>\n",
       "    </tr>\n",
       "  </thead>\n",
       "  <tbody>\n",
       "    <tr>\n",
       "      <th>2022-11-02</th>\n",
       "      <td>-0.001526</td>\n",
       "      <td>-0.010383</td>\n",
       "      <td>-0.032555</td>\n",
       "      <td>-0.005748</td>\n",
       "      <td>-0.011773</td>\n",
       "      <td>0.031249</td>\n",
       "      <td>0.004175</td>\n",
       "      <td>-0.032538</td>\n",
       "      <td>0.020413</td>\n",
       "      <td>-0.004608</td>\n",
       "      <td>...</td>\n",
       "      <td>0.013822</td>\n",
       "      <td>0.005978</td>\n",
       "      <td>-0.014682</td>\n",
       "      <td>-0.005497</td>\n",
       "      <td>0.038976</td>\n",
       "      <td>-0.001410</td>\n",
       "      <td>-0.000071</td>\n",
       "      <td>-0.014505</td>\n",
       "      <td>0.001870</td>\n",
       "      <td>0.008567</td>\n",
       "    </tr>\n",
       "    <tr>\n",
       "      <th>2022-11-03</th>\n",
       "      <td>-0.000464</td>\n",
       "      <td>-0.001336</td>\n",
       "      <td>-0.003913</td>\n",
       "      <td>-0.013952</td>\n",
       "      <td>-0.000125</td>\n",
       "      <td>-0.009121</td>\n",
       "      <td>-0.032686</td>\n",
       "      <td>-0.002151</td>\n",
       "      <td>0.016499</td>\n",
       "      <td>-0.017235</td>\n",
       "      <td>...</td>\n",
       "      <td>0.010489</td>\n",
       "      <td>0.033802</td>\n",
       "      <td>0.018373</td>\n",
       "      <td>-0.008969</td>\n",
       "      <td>-0.005876</td>\n",
       "      <td>-0.009555</td>\n",
       "      <td>0.006435</td>\n",
       "      <td>0.011445</td>\n",
       "      <td>-0.007344</td>\n",
       "      <td>0.024109</td>\n",
       "    </tr>\n",
       "    <tr>\n",
       "      <th>2022-11-04</th>\n",
       "      <td>0.031515</td>\n",
       "      <td>0.035474</td>\n",
       "      <td>-0.024753</td>\n",
       "      <td>-0.006214</td>\n",
       "      <td>0.011890</td>\n",
       "      <td>0.000796</td>\n",
       "      <td>0.029173</td>\n",
       "      <td>-0.005153</td>\n",
       "      <td>0.018696</td>\n",
       "      <td>0.002887</td>\n",
       "      <td>...</td>\n",
       "      <td>-0.026789</td>\n",
       "      <td>0.010502</td>\n",
       "      <td>0.003343</td>\n",
       "      <td>0.000923</td>\n",
       "      <td>0.014171</td>\n",
       "      <td>0.017007</td>\n",
       "      <td>0.003349</td>\n",
       "      <td>0.015037</td>\n",
       "      <td>-0.017900</td>\n",
       "      <td>0.012259</td>\n",
       "    </tr>\n",
       "    <tr>\n",
       "      <th>2022-11-05</th>\n",
       "      <td>-0.014008</td>\n",
       "      <td>-0.005861</td>\n",
       "      <td>-0.003312</td>\n",
       "      <td>0.009386</td>\n",
       "      <td>-0.009135</td>\n",
       "      <td>-0.012054</td>\n",
       "      <td>-0.018565</td>\n",
       "      <td>0.053228</td>\n",
       "      <td>-0.003652</td>\n",
       "      <td>-0.014513</td>\n",
       "      <td>...</td>\n",
       "      <td>0.011322</td>\n",
       "      <td>-0.006262</td>\n",
       "      <td>0.037869</td>\n",
       "      <td>0.006232</td>\n",
       "      <td>0.006827</td>\n",
       "      <td>0.055138</td>\n",
       "      <td>-0.006837</td>\n",
       "      <td>0.018088</td>\n",
       "      <td>0.004191</td>\n",
       "      <td>0.034661</td>\n",
       "    </tr>\n",
       "    <tr>\n",
       "      <th>2022-11-06</th>\n",
       "      <td>-0.033516</td>\n",
       "      <td>-0.017886</td>\n",
       "      <td>0.001767</td>\n",
       "      <td>0.004280</td>\n",
       "      <td>-0.004807</td>\n",
       "      <td>-0.028747</td>\n",
       "      <td>0.037552</td>\n",
       "      <td>0.001428</td>\n",
       "      <td>-0.008378</td>\n",
       "      <td>0.018422</td>\n",
       "      <td>...</td>\n",
       "      <td>-0.004635</td>\n",
       "      <td>-0.010339</td>\n",
       "      <td>-0.005510</td>\n",
       "      <td>-0.034509</td>\n",
       "      <td>-0.007750</td>\n",
       "      <td>-0.006447</td>\n",
       "      <td>0.037869</td>\n",
       "      <td>0.007725</td>\n",
       "      <td>0.025222</td>\n",
       "      <td>0.024171</td>\n",
       "    </tr>\n",
       "  </tbody>\n",
       "</table>\n",
       "<p>5 rows × 1000 columns</p>\n",
       "</div>"
      ],
      "text/plain": [
       "                 0         1         2         3         4         5    \\\n",
       "2022-11-02 -0.001526 -0.010383 -0.032555 -0.005748 -0.011773  0.031249   \n",
       "2022-11-03 -0.000464 -0.001336 -0.003913 -0.013952 -0.000125 -0.009121   \n",
       "2022-11-04  0.031515  0.035474 -0.024753 -0.006214  0.011890  0.000796   \n",
       "2022-11-05 -0.014008 -0.005861 -0.003312  0.009386 -0.009135 -0.012054   \n",
       "2022-11-06 -0.033516 -0.017886  0.001767  0.004280 -0.004807 -0.028747   \n",
       "\n",
       "                 6         7         8         9    ...       990       991  \\\n",
       "2022-11-02  0.004175 -0.032538  0.020413 -0.004608  ...  0.013822  0.005978   \n",
       "2022-11-03 -0.032686 -0.002151  0.016499 -0.017235  ...  0.010489  0.033802   \n",
       "2022-11-04  0.029173 -0.005153  0.018696  0.002887  ... -0.026789  0.010502   \n",
       "2022-11-05 -0.018565  0.053228 -0.003652 -0.014513  ...  0.011322 -0.006262   \n",
       "2022-11-06  0.037552  0.001428 -0.008378  0.018422  ... -0.004635 -0.010339   \n",
       "\n",
       "                 992       993       994       995       996       997  \\\n",
       "2022-11-02 -0.014682 -0.005497  0.038976 -0.001410 -0.000071 -0.014505   \n",
       "2022-11-03  0.018373 -0.008969 -0.005876 -0.009555  0.006435  0.011445   \n",
       "2022-11-04  0.003343  0.000923  0.014171  0.017007  0.003349  0.015037   \n",
       "2022-11-05  0.037869  0.006232  0.006827  0.055138 -0.006837  0.018088   \n",
       "2022-11-06 -0.005510 -0.034509 -0.007750 -0.006447  0.037869  0.007725   \n",
       "\n",
       "                 998       999  \n",
       "2022-11-02  0.001870  0.008567  \n",
       "2022-11-03 -0.007344  0.024109  \n",
       "2022-11-04 -0.017900  0.012259  \n",
       "2022-11-05  0.004191  0.034661  \n",
       "2022-11-06  0.025222  0.024171  \n",
       "\n",
       "[5 rows x 1000 columns]"
      ]
     },
     "execution_count": 178,
     "metadata": {},
     "output_type": "execute_result"
    }
   ],
   "source": [
    "media_AAPL = r[\"AAPL\"].mean()\n",
    "std_AAPL = r[\"AAPL\"].std()\n",
    "\n",
    "def sim_r(media, std, inicio, dias, N):\n",
    "    r = np.random.normal(media, std, size=(dias, N)) # simula x dias N veces de una distribuicion normal\n",
    "    fechas = pd.date_range(inicio, periods=dias)\n",
    "    return pd.DataFrame(index=fechas, data=r)\n",
    "\n",
    "sim_rAAPL = sim_r(media_AAPL,std_AAPL, \"2022-11-2\",365,1000)\n",
    "sim_rAAPL.head()"
   ]
  },
  {
   "cell_type": "markdown",
   "metadata": {},
   "source": [
    "**11. Queremos saber el valor de todas esas acciones los siguientes 365 y que todo eso se guarde en un DataFrame, en la columna adj close el valor simulado.**"
   ]
  },
  {
   "cell_type": "code",
   "execution_count": 217,
   "metadata": {},
   "outputs": [
    {
     "data": {
      "text/html": [
       "<div>\n",
       "<style scoped>\n",
       "    .dataframe tbody tr th:only-of-type {\n",
       "        vertical-align: middle;\n",
       "    }\n",
       "\n",
       "    .dataframe tbody tr th {\n",
       "        vertical-align: top;\n",
       "    }\n",
       "\n",
       "    .dataframe thead th {\n",
       "        text-align: right;\n",
       "    }\n",
       "</style>\n",
       "<table border=\"1\" class=\"dataframe\">\n",
       "  <thead>\n",
       "    <tr style=\"text-align: right;\">\n",
       "      <th></th>\n",
       "      <th>AdjClose</th>\n",
       "    </tr>\n",
       "    <tr>\n",
       "      <th>Date</th>\n",
       "      <th></th>\n",
       "    </tr>\n",
       "  </thead>\n",
       "  <tbody>\n",
       "    <tr>\n",
       "      <th>2022-11-02</th>\n",
       "      <td>150.889387</td>\n",
       "    </tr>\n",
       "    <tr>\n",
       "      <th>2022-11-03</th>\n",
       "      <td>151.056571</td>\n",
       "    </tr>\n",
       "    <tr>\n",
       "      <th>2022-11-04</th>\n",
       "      <td>151.190623</td>\n",
       "    </tr>\n",
       "    <tr>\n",
       "      <th>2022-11-05</th>\n",
       "      <td>151.321085</td>\n",
       "    </tr>\n",
       "    <tr>\n",
       "      <th>2022-11-06</th>\n",
       "      <td>151.530470</td>\n",
       "    </tr>\n",
       "    <tr>\n",
       "      <th>...</th>\n",
       "      <td>...</td>\n",
       "    </tr>\n",
       "    <tr>\n",
       "      <th>2023-10-28</th>\n",
       "      <td>204.911518</td>\n",
       "    </tr>\n",
       "    <tr>\n",
       "      <th>2023-10-29</th>\n",
       "      <td>204.958715</td>\n",
       "    </tr>\n",
       "    <tr>\n",
       "      <th>2023-10-30</th>\n",
       "      <td>204.947817</td>\n",
       "    </tr>\n",
       "    <tr>\n",
       "      <th>2023-10-31</th>\n",
       "      <td>205.015110</td>\n",
       "    </tr>\n",
       "    <tr>\n",
       "      <th>2023-11-01</th>\n",
       "      <td>205.123119</td>\n",
       "    </tr>\n",
       "  </tbody>\n",
       "</table>\n",
       "<p>365 rows × 1 columns</p>\n",
       "</div>"
      ],
      "text/plain": [
       "              AdjClose\n",
       "Date                  \n",
       "2022-11-02  150.889387\n",
       "2022-11-03  151.056571\n",
       "2022-11-04  151.190623\n",
       "2022-11-05  151.321085\n",
       "2022-11-06  151.530470\n",
       "...                ...\n",
       "2023-10-28  204.911518\n",
       "2023-10-29  204.958715\n",
       "2023-10-30  204.947817\n",
       "2023-10-31  205.015110\n",
       "2023-11-01  205.123119\n",
       "\n",
       "[365 rows x 1 columns]"
      ]
     },
     "execution_count": 217,
     "metadata": {},
     "output_type": "execute_result"
    }
   ],
   "source": [
    "valor_AAPL = (1+sim_rAAPL).cumprod()*df2[\"AAPL\"][-1]\n",
    "datasim = pd.DataFrame(columns = ['AdjClose'], data =valor_AAPL.mean(axis=1))\n",
    "datasim.index.name = 'Date'\n",
    "datasim"
   ]
  },
  {
   "cell_type": "markdown",
   "metadata": {},
   "source": [
    "**12. Una vez que tenemos nuestros precios al cierre simulados corremos nuestra estrategia.**"
   ]
  },
  {
   "cell_type": "code",
   "execution_count": 274,
   "metadata": {},
   "outputs": [],
   "source": [
    "def RSIcalc_sim(frame): #names\n",
    "    df2 = frame\n",
    "    df2['MA200'] = df2['AdjClose'].rolling(window=200).mean()\n",
    "    df2['Price Change'] = df2['AdjClose'].pct_change()\n",
    "    df2['Upmove'] = df2['Price Change'].apply(lambda x: x if x>0 else 0)\n",
    "    df2['Downmove'] = df2['Price Change'].apply(lambda x: abs(x) if x<0 else 0)\n",
    "    df2['Avg Up'] = df2[\"Upmove\"].ewm(span=19).mean()\n",
    "    df2['Avg Down'] = df2[\"Downmove\"].ewm(span=19).mean()\n",
    "    df2 = df2.dropna()\n",
    "    df2['RS'] = (df2['Avg Up']/df2['Avg Down'])\n",
    "    df2['RSI']= df2['RS'].apply(lambda x: 100-(100/(x+1)))\n",
    "    df2.loc[(df2['AdjClose'] > df2['MA200']) & (df2['RSI']<94), 'Buy'] = 'Yes'\n",
    "    df2.loc[(df2['AdjClose'] < df2['MA200']) | (df2['RSI']>94), 'Buy'] = 'No'\n",
    "    return df2"
   ]
  },
  {
   "cell_type": "markdown",
   "metadata": {},
   "source": [
    "**13. Se grafica el RSI como esta, porque si se deja en 30 nuca se va a compra ni vender**"
   ]
  },
  {
   "cell_type": "code",
   "execution_count": 275,
   "metadata": {
    "scrolled": true
   },
   "outputs": [
    {
     "data": {
      "text/plain": [
       "[<matplotlib.lines.Line2D at 0x19c5bc2df10>]"
      ]
     },
     "execution_count": 275,
     "metadata": {},
     "output_type": "execute_result"
    },
    {
     "data": {
      "image/png": "[encoded data removed]",
      "text/plain": [
       "<Figure size 432x288 with 1 Axes>"
      ]
     },
     "metadata": {
      "needs_background": "light"
     },
     "output_type": "display_data"
    }
   ],
   "source": [
    "tabla_sim = RSIcalc_sim(datasim)\n",
    "plt.plot(tabla_sim[\"RSI\"])"
   ]
  },
  {
   "cell_type": "markdown",
   "metadata": {},
   "source": [
    "**14. Se guarda en otra tabla simulada, en la cual todos los miles escenarios estan resumidos en esta tabla**"
   ]
  },
  {
   "cell_type": "code",
   "execution_count": 276,
   "metadata": {},
   "outputs": [
    {
     "data": {
      "text/html": [
       "<div>\n",
       "<style scoped>\n",
       "    .dataframe tbody tr th:only-of-type {\n",
       "        vertical-align: middle;\n",
       "    }\n",
       "\n",
       "    .dataframe tbody tr th {\n",
       "        vertical-align: top;\n",
       "    }\n",
       "\n",
       "    .dataframe thead th {\n",
       "        text-align: right;\n",
       "    }\n",
       "</style>\n",
       "<table border=\"1\" class=\"dataframe\">\n",
       "  <thead>\n",
       "    <tr style=\"text-align: right;\">\n",
       "      <th></th>\n",
       "      <th>AdjClose</th>\n",
       "      <th>MA200</th>\n",
       "      <th>Price Change</th>\n",
       "      <th>Upmove</th>\n",
       "      <th>Downmove</th>\n",
       "      <th>Avg Up</th>\n",
       "      <th>Avg Down</th>\n",
       "      <th>RS</th>\n",
       "      <th>RSI</th>\n",
       "      <th>Buy</th>\n",
       "    </tr>\n",
       "    <tr>\n",
       "      <th>Date</th>\n",
       "      <th></th>\n",
       "      <th></th>\n",
       "      <th></th>\n",
       "      <th></th>\n",
       "      <th></th>\n",
       "      <th></th>\n",
       "      <th></th>\n",
       "      <th></th>\n",
       "      <th></th>\n",
       "      <th></th>\n",
       "    </tr>\n",
       "  </thead>\n",
       "  <tbody>\n",
       "    <tr>\n",
       "      <th>2023-05-20</th>\n",
       "      <td>178.595114</td>\n",
       "      <td>164.304858</td>\n",
       "      <td>0.000697</td>\n",
       "      <td>0.000697</td>\n",
       "      <td>0.000000</td>\n",
       "      <td>0.000778</td>\n",
       "      <td>0.000057</td>\n",
       "      <td>13.736223</td>\n",
       "      <td>93.214001</td>\n",
       "      <td>Yes</td>\n",
       "    </tr>\n",
       "    <tr>\n",
       "      <th>2023-05-21</th>\n",
       "      <td>178.643962</td>\n",
       "      <td>164.443631</td>\n",
       "      <td>0.000274</td>\n",
       "      <td>0.000274</td>\n",
       "      <td>0.000000</td>\n",
       "      <td>0.000727</td>\n",
       "      <td>0.000051</td>\n",
       "      <td>14.272854</td>\n",
       "      <td>93.452435</td>\n",
       "      <td>Yes</td>\n",
       "    </tr>\n",
       "    <tr>\n",
       "      <th>2023-05-22</th>\n",
       "      <td>178.607466</td>\n",
       "      <td>164.581385</td>\n",
       "      <td>-0.000204</td>\n",
       "      <td>0.000000</td>\n",
       "      <td>0.000204</td>\n",
       "      <td>0.000655</td>\n",
       "      <td>0.000066</td>\n",
       "      <td>9.874928</td>\n",
       "      <td>90.804537</td>\n",
       "      <td>Yes</td>\n",
       "    </tr>\n",
       "    <tr>\n",
       "      <th>2023-05-23</th>\n",
       "      <td>178.701881</td>\n",
       "      <td>164.718941</td>\n",
       "      <td>0.000529</td>\n",
       "      <td>0.000529</td>\n",
       "      <td>0.000000</td>\n",
       "      <td>0.000642</td>\n",
       "      <td>0.000060</td>\n",
       "      <td>10.760823</td>\n",
       "      <td>91.497194</td>\n",
       "      <td>Yes</td>\n",
       "    </tr>\n",
       "    <tr>\n",
       "      <th>2023-05-24</th>\n",
       "      <td>178.834056</td>\n",
       "      <td>164.856506</td>\n",
       "      <td>0.000740</td>\n",
       "      <td>0.000740</td>\n",
       "      <td>0.000000</td>\n",
       "      <td>0.000652</td>\n",
       "      <td>0.000054</td>\n",
       "      <td>12.138100</td>\n",
       "      <td>92.388549</td>\n",
       "      <td>Yes</td>\n",
       "    </tr>\n",
       "    <tr>\n",
       "      <th>...</th>\n",
       "      <td>...</td>\n",
       "      <td>...</td>\n",
       "      <td>...</td>\n",
       "      <td>...</td>\n",
       "      <td>...</td>\n",
       "      <td>...</td>\n",
       "      <td>...</td>\n",
       "      <td>...</td>\n",
       "      <td>...</td>\n",
       "      <td>...</td>\n",
       "    </tr>\n",
       "    <tr>\n",
       "      <th>2023-10-28</th>\n",
       "      <td>204.911518</td>\n",
       "      <td>187.912434</td>\n",
       "      <td>0.002239</td>\n",
       "      <td>0.002239</td>\n",
       "      <td>0.000000</td>\n",
       "      <td>0.000956</td>\n",
       "      <td>0.000029</td>\n",
       "      <td>32.960280</td>\n",
       "      <td>97.055384</td>\n",
       "      <td>No</td>\n",
       "    </tr>\n",
       "    <tr>\n",
       "      <th>2023-10-29</th>\n",
       "      <td>204.958715</td>\n",
       "      <td>188.068462</td>\n",
       "      <td>0.000230</td>\n",
       "      <td>0.000230</td>\n",
       "      <td>0.000000</td>\n",
       "      <td>0.000884</td>\n",
       "      <td>0.000026</td>\n",
       "      <td>33.842333</td>\n",
       "      <td>97.129928</td>\n",
       "      <td>No</td>\n",
       "    </tr>\n",
       "    <tr>\n",
       "      <th>2023-10-30</th>\n",
       "      <td>204.947817</td>\n",
       "      <td>188.223293</td>\n",
       "      <td>-0.000053</td>\n",
       "      <td>0.000000</td>\n",
       "      <td>0.000053</td>\n",
       "      <td>0.000795</td>\n",
       "      <td>0.000029</td>\n",
       "      <td>27.598236</td>\n",
       "      <td>96.503281</td>\n",
       "      <td>No</td>\n",
       "    </tr>\n",
       "    <tr>\n",
       "      <th>2023-10-31</th>\n",
       "      <td>205.015110</td>\n",
       "      <td>188.378372</td>\n",
       "      <td>0.000328</td>\n",
       "      <td>0.000328</td>\n",
       "      <td>0.000000</td>\n",
       "      <td>0.000749</td>\n",
       "      <td>0.000026</td>\n",
       "      <td>28.864147</td>\n",
       "      <td>96.651503</td>\n",
       "      <td>No</td>\n",
       "    </tr>\n",
       "    <tr>\n",
       "      <th>2023-11-01</th>\n",
       "      <td>205.123119</td>\n",
       "      <td>188.533357</td>\n",
       "      <td>0.000527</td>\n",
       "      <td>0.000527</td>\n",
       "      <td>0.000000</td>\n",
       "      <td>0.000726</td>\n",
       "      <td>0.000023</td>\n",
       "      <td>31.121027</td>\n",
       "      <td>96.886774</td>\n",
       "      <td>No</td>\n",
       "    </tr>\n",
       "  </tbody>\n",
       "</table>\n",
       "<p>166 rows × 10 columns</p>\n",
       "</div>"
      ],
      "text/plain": [
       "              AdjClose       MA200  Price Change    Upmove  Downmove  \\\n",
       "Date                                                                   \n",
       "2023-05-20  178.595114  164.304858      0.000697  0.000697  0.000000   \n",
       "2023-05-21  178.643962  164.443631      0.000274  0.000274  0.000000   \n",
       "2023-05-22  178.607466  164.581385     -0.000204  0.000000  0.000204   \n",
       "2023-05-23  178.701881  164.718941      0.000529  0.000529  0.000000   \n",
       "2023-05-24  178.834056  164.856506      0.000740  0.000740  0.000000   \n",
       "...                ...         ...           ...       ...       ...   \n",
       "2023-10-28  204.911518  187.912434      0.002239  0.002239  0.000000   \n",
       "2023-10-29  204.958715  188.068462      0.000230  0.000230  0.000000   \n",
       "2023-10-30  204.947817  188.223293     -0.000053  0.000000  0.000053   \n",
       "2023-10-31  205.015110  188.378372      0.000328  0.000328  0.000000   \n",
       "2023-11-01  205.123119  188.533357      0.000527  0.000527  0.000000   \n",
       "\n",
       "              Avg Up  Avg Down         RS        RSI  Buy  \n",
       "Date                                                       \n",
       "2023-05-20  0.000778  0.000057  13.736223  93.214001  Yes  \n",
       "2023-05-21  0.000727  0.000051  14.272854  93.452435  Yes  \n",
       "2023-05-22  0.000655  0.000066   9.874928  90.804537  Yes  \n",
       "2023-05-23  0.000642  0.000060  10.760823  91.497194  Yes  \n",
       "2023-05-24  0.000652  0.000054  12.138100  92.388549  Yes  \n",
       "...              ...       ...        ...        ...  ...  \n",
       "2023-10-28  0.000956  0.000029  32.960280  97.055384   No  \n",
       "2023-10-29  0.000884  0.000026  33.842333  97.129928   No  \n",
       "2023-10-30  0.000795  0.000029  27.598236  96.503281   No  \n",
       "2023-10-31  0.000749  0.000026  28.864147  96.651503   No  \n",
       "2023-11-01  0.000726  0.000023  31.121027  96.886774   No  \n",
       "\n",
       "[166 rows x 10 columns]"
      ]
     },
     "execution_count": 276,
     "metadata": {},
     "output_type": "execute_result"
    }
   ],
   "source": [
    "tabla_sim"
   ]
  },
  {
   "cell_type": "markdown",
   "metadata": {},
   "source": [
    "**15. Una vez que se tiene la tabla se puede correr los indicadores, se guardan las dos lista y se corre la funcion para determinar las buying and selling dates**"
   ]
  },
  {
   "cell_type": "code",
   "execution_count": 277,
   "metadata": {},
   "outputs": [],
   "source": [
    "def indicadores_sim(df):\n",
    "    Buying_dates = []\n",
    "    Selling_dates =[]\n",
    "    \n",
    "    for i in range(len(df)):\n",
    "        if \"Yes\" in df['Buy'].iloc[i]:\n",
    "            Buying_dates.append(df.iloc[i+1].name)\n",
    "            for j in range(1,101):\n",
    "                if df['RSI'].iloc[i + j] > 95:\n",
    "                    Selling_dates.append(df.iloc[i+j+1].name)\n",
    "                    break\n",
    "                elif j==30:\n",
    "                    Selling_dates.append(df.iloc[i+j+1].name)\n",
    "                    \n",
    "    return Buying_dates, Selling_dates"
   ]
  },
  {
   "cell_type": "code",
   "execution_count": 278,
   "metadata": {},
   "outputs": [],
   "source": [
    "Buy, Sell = indicadores_sim(tabla_sim)"
   ]
  },
  {
   "cell_type": "markdown",
   "metadata": {},
   "source": [
    "**16. Ahora calculamos el rendimiento simulado:**"
   ]
  },
  {
   "cell_type": "code",
   "execution_count": 279,
   "metadata": {},
   "outputs": [
    {
     "data": {
      "text/plain": [
       "array([0.00891314, 0.00911929, 0.00858614, 0.0078407 , 0.00647819,\n",
       "       0.00692043, 0.00621722, 0.005203  , 0.00504439, 0.00415219,\n",
       "       0.00342428, 0.00178095, 0.00475225, 0.0036094 , 0.00216329,\n",
       "       0.00501296, 0.00409173, 0.00336113, 0.00226481, 0.00607804,\n",
       "       0.00598819, 0.00475516, 0.00436303, 0.00362453, 0.00210305,\n",
       "       0.00125381])"
      ]
     },
     "execution_count": 279,
     "metadata": {},
     "output_type": "execute_result"
    }
   ],
   "source": [
    "rendimiento_sim = (tabla_sim.loc[Sell].AdjClose.values - tabla_sim.loc[Buy].AdjClose.values)/(tabla_sim.loc[Buy].AdjClose.values)\n",
    "rendimiento_sim"
   ]
  },
  {
   "cell_type": "code",
   "execution_count": 280,
   "metadata": {},
   "outputs": [
    {
     "data": {
      "text/plain": [
       "[<matplotlib.lines.Line2D at 0x19c5bcca5b0>]"
      ]
     },
     "execution_count": 280,
     "metadata": {},
     "output_type": "execute_result"
    },
    {
     "data": {
      "image/png": "[encoded data removed]",
      "text/plain": [
       "<Figure size 432x288 with 1 Axes>"
      ]
     },
     "metadata": {
      "needs_background": "light"
     },
     "output_type": "display_data"
    }
   ],
   "source": [
    "plt.plot(rendimiento_sim)"
   ]
  },
  {
   "cell_type": "code",
   "execution_count": 282,
   "metadata": {},
   "outputs": [
    {
     "name": "stdout",
     "output_type": "stream",
     "text": [
      "La probabilidad para ganar es del: 100.0 %\n"
     ]
    }
   ],
   "source": [
    "ganancias_sim = [i for i in rendimiento_sim if i > 0]\n",
    "print(\"La probabilidad para ganar es del:\", (len(ganancias_sim)/len(rendimiento_sim)*100),\"%\")"
   ]
  },
  {
   "cell_type": "code",
   "execution_count": 283,
   "metadata": {},
   "outputs": [
    {
     "data": {
      "text/html": [
       "<div>\n",
       "<style scoped>\n",
       "    .dataframe tbody tr th:only-of-type {\n",
       "        vertical-align: middle;\n",
       "    }\n",
       "\n",
       "    .dataframe tbody tr th {\n",
       "        vertical-align: top;\n",
       "    }\n",
       "\n",
       "    .dataframe thead th {\n",
       "        text-align: right;\n",
       "    }\n",
       "</style>\n",
       "<table border=\"1\" class=\"dataframe\">\n",
       "  <thead>\n",
       "    <tr style=\"text-align: right;\">\n",
       "      <th></th>\n",
       "      <th>Rendimientos Simulados</th>\n",
       "    </tr>\n",
       "  </thead>\n",
       "  <tbody>\n",
       "    <tr>\n",
       "      <th>count</th>\n",
       "      <td>26.000000</td>\n",
       "    </tr>\n",
       "    <tr>\n",
       "      <th>mean</th>\n",
       "      <td>0.004889</td>\n",
       "    </tr>\n",
       "    <tr>\n",
       "      <th>std</th>\n",
       "      <td>0.002207</td>\n",
       "    </tr>\n",
       "    <tr>\n",
       "      <th>min</th>\n",
       "      <td>0.001254</td>\n",
       "    </tr>\n",
       "    <tr>\n",
       "      <th>25%</th>\n",
       "      <td>0.003471</td>\n",
       "    </tr>\n",
       "    <tr>\n",
       "      <th>50%</th>\n",
       "      <td>0.004754</td>\n",
       "    </tr>\n",
       "    <tr>\n",
       "      <th>75%</th>\n",
       "      <td>0.006182</td>\n",
       "    </tr>\n",
       "    <tr>\n",
       "      <th>max</th>\n",
       "      <td>0.009119</td>\n",
       "    </tr>\n",
       "  </tbody>\n",
       "</table>\n",
       "</div>"
      ],
      "text/plain": [
       "       Rendimientos Simulados\n",
       "count               26.000000\n",
       "mean                 0.004889\n",
       "std                  0.002207\n",
       "min                  0.001254\n",
       "25%                  0.003471\n",
       "50%                  0.004754\n",
       "75%                  0.006182\n",
       "max                  0.009119"
      ]
     },
     "execution_count": 283,
     "metadata": {},
     "output_type": "execute_result"
    }
   ],
   "source": [
    "tablar_sim  = pd.DataFrame(columns=[\"Rendimientos Simulados\"], data=rendimiento_sim)\n",
    "tablar_sim.index.name = \"Movimientos\"\n",
    "tablar_sim.describe()"
   ]
  },
  {
   "cell_type": "code",
   "execution_count": 285,
   "metadata": {},
   "outputs": [
    {
     "name": "stdout",
     "output_type": "stream",
     "text": [
      "La utilidad de la inversión fue de: 4888 dólares americanos.\n"
     ]
    }
   ],
   "source": [
    "Tasar_sim = tablar_sim.mean()\n",
    "Utilidad_sim = Tasar_sim*Capital\n",
    "print(\"La utilidad de la inversión fue de:\",int(Utilidad_sim),\"dólares americanos.\")\n"
   ]
  }
 ],
 "metadata": {
  "kernelspec": {
   "display_name": "Python 3 (ipykernel)",
   "language": "python",
   "name": "python3"
  },
  "language_info": {
   "codemirror_mode": {
    "name": "ipython",
    "version": 3
   },
   "file_extension": ".py",
   "mimetype": "text/x-python",
   "name": "python",
   "nbconvert_exporter": "python",
   "pygments_lexer": "ipython3",
   "version": "3.9.12"
  }
 },
 "nbformat": 4,
 "nbformat_minor": 2
}
